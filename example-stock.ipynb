{
 "cells": [
  {
   "cell_type": "code",
   "execution_count": 1,
   "metadata": {
    "ExecuteTime": {
     "end_time": "2019-08-04T16:58:58.134773Z",
     "start_time": "2019-08-04T16:58:55.731260Z"
    },
    "collapsed": true
   },
   "outputs": [],
   "source": [
    "import vectorbt as vbt\n",
    "import numpy as np\n",
    "import pandas as pd"
   ]
  },
  {
   "cell_type": "code",
   "execution_count": 2,
   "metadata": {
    "ExecuteTime": {
     "end_time": "2019-08-04T16:58:58.140762Z",
     "start_time": "2019-08-04T16:58:58.135775Z"
    },
    "collapsed": true
   },
   "outputs": [],
   "source": [
    "import matplotlib\n",
    "from matplotlib import pyplot as plt\n",
    "matplotlib.rcParams['figure.figsize'] = (12, 5)"
   ]
  },
  {
   "cell_type": "markdown",
   "metadata": {},
   "source": [
    "# data"
   ]
  },
  {
   "cell_type": "markdown",
   "metadata": {},
   "source": [
    "Load OHLC data from cryptocurrency exchange Poloniex."
   ]
  },
  {
   "cell_type": "code",
   "execution_count": 6,
   "metadata": {
    "ExecuteTime": {
     "end_time": "2019-08-04T17:01:20.666449Z",
     "start_time": "2019-08-04T17:01:20.604283Z"
    },
    "collapsed": false,
    "scrolled": true
   },
   "outputs": [
    {
     "name": "stdout",
     "output_type": "stream",
     "text": [
      "                  Date    Open    High     Low   Close  Adj Close     Volume\n",
      "datetime                                                                    \n",
      "1992-01-02  1992-01-02   0.561   0.564   0.554   0.556      0.556    11450.0\n",
      "1992-01-03  1992-01-03   0.365   0.367   0.362   0.364      0.364     2212.0\n",
      "1992-01-06  1992-01-06   0.364   0.372   0.363   0.371      0.371     2634.0\n",
      "1992-01-07  1992-01-07   0.371   0.377   0.369   0.374      0.374     2931.0\n",
      "1992-01-08  1992-01-08   0.372   0.377   0.369   0.371      0.371     1928.0\n",
      "1992-01-09  1992-01-09   0.371   0.372   0.366   0.371      0.371     1535.0\n",
      "1992-01-10  1992-01-10   0.371   0.372   0.369   0.372      0.372     1525.0\n",
      "1992-01-13  1992-01-13   0.372   0.372   0.370   0.371      0.371     1353.0\n",
      "1992-01-14  1992-01-14   0.371   0.371   0.362   0.365      0.365      711.0\n",
      "1992-01-15  1992-01-15   0.365   0.367   0.362   0.364      0.364     2205.0\n",
      "1992-01-16  1992-01-16   0.362   0.362   0.357   0.361      0.361     1268.0\n",
      "1992-01-17  1992-01-17   0.361   0.361   0.354   0.360      0.360     1143.0\n",
      "1992-01-20  1992-01-20   0.360   0.369   0.360   0.368      0.368     1085.0\n",
      "1992-01-21  1992-01-21   0.369   0.372   0.365   0.366      0.366     1576.0\n",
      "1992-01-22  1992-01-22   0.366   0.366   0.360   0.362      0.362     1592.0\n",
      "1992-01-23  1992-01-23   0.362   0.366   0.362   0.365      0.365     1477.0\n",
      "1992-01-24  1992-01-24   0.366   0.371   0.363   0.370      0.370     2327.0\n",
      "1992-01-27  1992-01-27   0.369   0.370   0.366   0.367      0.367     2571.0\n",
      "1992-01-28  1992-01-28   0.367   0.369   0.367   0.369      0.369     2336.0\n",
      "1992-01-29  1992-01-29   0.369   0.376   0.369   0.375      0.375     2127.0\n",
      "1992-01-30  1992-01-30   0.374   0.379   0.374   0.377      0.377     1735.0\n",
      "1992-01-31  1992-01-31   0.379   0.390   0.379   0.389      0.389     2275.0\n",
      "1992-02-01  1992-02-01   0.389   0.400   0.389   0.400      0.400     2228.0\n",
      "1992-02-02  1992-02-02   0.400   0.409   0.399   0.404      0.404      735.0\n",
      "1992-02-10  1992-02-10   0.404   0.406   0.386   0.395      0.395     1644.0\n",
      "1992-02-11  1992-02-11   0.392   0.397   0.392   0.396      0.396     1960.0\n",
      "1992-02-12  1992-02-12   0.396   0.400   0.394   0.398      0.398     1358.0\n",
      "1992-02-13  1992-02-13   0.399   0.401   0.397   0.400      0.400     1812.0\n",
      "1992-02-14  1992-02-14   0.400   0.401   0.397   0.397      0.397     1924.0\n",
      "1992-02-17  1992-02-17   0.396   0.397   0.389   0.391      0.391     1557.0\n",
      "...                ...     ...     ...     ...     ...        ...        ...\n",
      "2019-06-20  2019-06-20  13.170  13.950  13.120  13.800     13.800  1529191.0\n",
      "2019-06-21  2019-06-21  13.760  13.870  13.580  13.640     13.640  1011129.0\n",
      "2019-06-24  2019-06-24  13.690  13.830  13.610  13.690     13.690   659572.0\n",
      "2019-06-25  2019-06-25  13.720  13.720  13.070  13.430     13.430  1469227.0\n",
      "2019-06-26  2019-06-26  13.270  13.500  13.190  13.370     13.370   546504.0\n",
      "2019-06-27  2019-06-27  13.500  13.850  13.450  13.710     13.710   925074.0\n",
      "2019-06-28  2019-06-28  13.730  13.790  13.580  13.780     13.780   498093.0\n",
      "2019-07-01  2019-07-01  14.010  14.180  13.870  13.930     13.930   960636.0\n",
      "2019-07-02  2019-07-02  13.880  14.240  13.860  14.180     14.180  1052744.0\n",
      "2019-07-03  2019-07-03  14.180  14.210  13.870  14.010     14.010   769078.0\n",
      "2019-07-04  2019-07-04  14.010  14.280  13.880  13.990     13.990   621292.0\n",
      "2019-07-05  2019-07-05  13.950  13.980  13.690  13.920     13.920   749196.0\n",
      "2019-07-08  2019-07-08  13.820  13.880  13.450  13.590     13.590   778413.0\n",
      "2019-07-09  2019-07-09  13.630  13.710  13.440  13.590     13.590   494296.0\n",
      "2019-07-10  2019-07-10  13.610  13.700  13.490  13.560     13.560   358220.0\n",
      "2019-07-11  2019-07-11  13.680  13.780  13.530  13.540     13.540   484183.0\n",
      "2019-07-12  2019-07-12  13.600  14.230  13.580  14.120     14.120  1465366.0\n",
      "2019-07-15  2019-07-15  14.030  14.120  13.840  14.000     14.000   841282.0\n",
      "2019-07-16  2019-07-16  13.970  13.990  13.710  13.750     13.750   722780.0\n",
      "2019-07-17  2019-07-17  13.700  13.810  13.610  13.690     13.690   410020.0\n",
      "2019-07-18  2019-07-18  13.650  13.810  13.560  13.670     13.670   422826.0\n",
      "2019-07-19  2019-07-19  13.740  14.080  13.680  13.990     13.990   866390.0\n",
      "2019-07-22  2019-07-22  13.960  14.020  13.760  13.850     13.850   582283.0\n",
      "2019-07-23  2019-07-23  13.860  13.870  13.650  13.760     13.760   504004.0\n",
      "2019-07-24  2019-07-24  13.870  14.010  13.790  13.880     13.880   570276.0\n",
      "2019-07-25  2019-07-25  13.920  14.270  13.850  14.200     14.200  1087826.0\n",
      "2019-07-26  2019-07-26  14.180  14.250  14.080  14.230     14.230   635305.0\n",
      "2019-07-29  2019-07-29  14.250  14.450  14.180  14.290     14.290   715576.0\n",
      "2019-07-30  2019-07-30  14.310  14.550  14.290  14.370     14.370   796634.0\n",
      "2019-07-31  2019-07-31  14.300  14.320  14.080  14.130     14.130   634723.0\n",
      "\n",
      "[6552 rows x 7 columns]\n"
     ]
    },
    {
     "data": {
      "text/html": [
       "<div>\n",
       "<style scoped>\n",
       "    .dataframe tbody tr th:only-of-type {\n",
       "        vertical-align: middle;\n",
       "    }\n",
       "\n",
       "    .dataframe tbody tr th {\n",
       "        vertical-align: top;\n",
       "    }\n",
       "\n",
       "    .dataframe thead th {\n",
       "        text-align: right;\n",
       "    }\n",
       "</style>\n",
       "<table border=\"1\" class=\"dataframe\">\n",
       "  <thead>\n",
       "    <tr style=\"text-align: right;\">\n",
       "      <th></th>\n",
       "      <th>O</th>\n",
       "      <th>H</th>\n",
       "      <th>L</th>\n",
       "      <th>C</th>\n",
       "      <th>V</th>\n",
       "    </tr>\n",
       "    <tr>\n",
       "      <th>datetime</th>\n",
       "      <th></th>\n",
       "      <th></th>\n",
       "      <th></th>\n",
       "      <th></th>\n",
       "      <th></th>\n",
       "    </tr>\n",
       "  </thead>\n",
       "  <tbody>\n",
       "    <tr>\n",
       "      <th>1992-01-02</th>\n",
       "      <td>0.561</td>\n",
       "      <td>0.564</td>\n",
       "      <td>0.554</td>\n",
       "      <td>0.556</td>\n",
       "      <td>11450.0</td>\n",
       "    </tr>\n",
       "    <tr>\n",
       "      <th>1992-01-03</th>\n",
       "      <td>0.365</td>\n",
       "      <td>0.367</td>\n",
       "      <td>0.362</td>\n",
       "      <td>0.364</td>\n",
       "      <td>2212.0</td>\n",
       "    </tr>\n",
       "    <tr>\n",
       "      <th>1992-01-06</th>\n",
       "      <td>0.364</td>\n",
       "      <td>0.372</td>\n",
       "      <td>0.363</td>\n",
       "      <td>0.371</td>\n",
       "      <td>2634.0</td>\n",
       "    </tr>\n",
       "    <tr>\n",
       "      <th>1992-01-07</th>\n",
       "      <td>0.371</td>\n",
       "      <td>0.377</td>\n",
       "      <td>0.369</td>\n",
       "      <td>0.374</td>\n",
       "      <td>2931.0</td>\n",
       "    </tr>\n",
       "    <tr>\n",
       "      <th>1992-01-08</th>\n",
       "      <td>0.372</td>\n",
       "      <td>0.377</td>\n",
       "      <td>0.369</td>\n",
       "      <td>0.371</td>\n",
       "      <td>1928.0</td>\n",
       "    </tr>\n",
       "    <tr>\n",
       "      <th>1992-01-09</th>\n",
       "      <td>0.371</td>\n",
       "      <td>0.372</td>\n",
       "      <td>0.366</td>\n",
       "      <td>0.371</td>\n",
       "      <td>1535.0</td>\n",
       "    </tr>\n",
       "    <tr>\n",
       "      <th>1992-01-10</th>\n",
       "      <td>0.371</td>\n",
       "      <td>0.372</td>\n",
       "      <td>0.369</td>\n",
       "      <td>0.372</td>\n",
       "      <td>1525.0</td>\n",
       "    </tr>\n",
       "    <tr>\n",
       "      <th>1992-01-13</th>\n",
       "      <td>0.372</td>\n",
       "      <td>0.372</td>\n",
       "      <td>0.370</td>\n",
       "      <td>0.371</td>\n",
       "      <td>1353.0</td>\n",
       "    </tr>\n",
       "    <tr>\n",
       "      <th>1992-01-14</th>\n",
       "      <td>0.371</td>\n",
       "      <td>0.371</td>\n",
       "      <td>0.362</td>\n",
       "      <td>0.365</td>\n",
       "      <td>711.0</td>\n",
       "    </tr>\n",
       "    <tr>\n",
       "      <th>1992-01-15</th>\n",
       "      <td>0.365</td>\n",
       "      <td>0.367</td>\n",
       "      <td>0.362</td>\n",
       "      <td>0.364</td>\n",
       "      <td>2205.0</td>\n",
       "    </tr>\n",
       "    <tr>\n",
       "      <th>1992-01-16</th>\n",
       "      <td>0.362</td>\n",
       "      <td>0.362</td>\n",
       "      <td>0.357</td>\n",
       "      <td>0.361</td>\n",
       "      <td>1268.0</td>\n",
       "    </tr>\n",
       "    <tr>\n",
       "      <th>1992-01-17</th>\n",
       "      <td>0.361</td>\n",
       "      <td>0.361</td>\n",
       "      <td>0.354</td>\n",
       "      <td>0.360</td>\n",
       "      <td>1143.0</td>\n",
       "    </tr>\n",
       "    <tr>\n",
       "      <th>1992-01-20</th>\n",
       "      <td>0.360</td>\n",
       "      <td>0.369</td>\n",
       "      <td>0.360</td>\n",
       "      <td>0.368</td>\n",
       "      <td>1085.0</td>\n",
       "    </tr>\n",
       "    <tr>\n",
       "      <th>1992-01-21</th>\n",
       "      <td>0.369</td>\n",
       "      <td>0.372</td>\n",
       "      <td>0.365</td>\n",
       "      <td>0.366</td>\n",
       "      <td>1576.0</td>\n",
       "    </tr>\n",
       "    <tr>\n",
       "      <th>1992-01-22</th>\n",
       "      <td>0.366</td>\n",
       "      <td>0.366</td>\n",
       "      <td>0.360</td>\n",
       "      <td>0.362</td>\n",
       "      <td>1592.0</td>\n",
       "    </tr>\n",
       "    <tr>\n",
       "      <th>1992-01-23</th>\n",
       "      <td>0.362</td>\n",
       "      <td>0.366</td>\n",
       "      <td>0.362</td>\n",
       "      <td>0.365</td>\n",
       "      <td>1477.0</td>\n",
       "    </tr>\n",
       "    <tr>\n",
       "      <th>1992-01-24</th>\n",
       "      <td>0.366</td>\n",
       "      <td>0.371</td>\n",
       "      <td>0.363</td>\n",
       "      <td>0.370</td>\n",
       "      <td>2327.0</td>\n",
       "    </tr>\n",
       "    <tr>\n",
       "      <th>1992-01-27</th>\n",
       "      <td>0.369</td>\n",
       "      <td>0.370</td>\n",
       "      <td>0.366</td>\n",
       "      <td>0.367</td>\n",
       "      <td>2571.0</td>\n",
       "    </tr>\n",
       "    <tr>\n",
       "      <th>1992-01-28</th>\n",
       "      <td>0.367</td>\n",
       "      <td>0.369</td>\n",
       "      <td>0.367</td>\n",
       "      <td>0.369</td>\n",
       "      <td>2336.0</td>\n",
       "    </tr>\n",
       "    <tr>\n",
       "      <th>1992-01-29</th>\n",
       "      <td>0.369</td>\n",
       "      <td>0.376</td>\n",
       "      <td>0.369</td>\n",
       "      <td>0.375</td>\n",
       "      <td>2127.0</td>\n",
       "    </tr>\n",
       "    <tr>\n",
       "      <th>1992-01-30</th>\n",
       "      <td>0.374</td>\n",
       "      <td>0.379</td>\n",
       "      <td>0.374</td>\n",
       "      <td>0.377</td>\n",
       "      <td>1735.0</td>\n",
       "    </tr>\n",
       "    <tr>\n",
       "      <th>1992-01-31</th>\n",
       "      <td>0.379</td>\n",
       "      <td>0.390</td>\n",
       "      <td>0.379</td>\n",
       "      <td>0.389</td>\n",
       "      <td>2275.0</td>\n",
       "    </tr>\n",
       "    <tr>\n",
       "      <th>1992-02-01</th>\n",
       "      <td>0.389</td>\n",
       "      <td>0.400</td>\n",
       "      <td>0.389</td>\n",
       "      <td>0.400</td>\n",
       "      <td>2228.0</td>\n",
       "    </tr>\n",
       "    <tr>\n",
       "      <th>1992-02-02</th>\n",
       "      <td>0.400</td>\n",
       "      <td>0.409</td>\n",
       "      <td>0.399</td>\n",
       "      <td>0.404</td>\n",
       "      <td>735.0</td>\n",
       "    </tr>\n",
       "    <tr>\n",
       "      <th>1992-02-10</th>\n",
       "      <td>0.404</td>\n",
       "      <td>0.406</td>\n",
       "      <td>0.386</td>\n",
       "      <td>0.395</td>\n",
       "      <td>1644.0</td>\n",
       "    </tr>\n",
       "    <tr>\n",
       "      <th>1992-02-11</th>\n",
       "      <td>0.392</td>\n",
       "      <td>0.397</td>\n",
       "      <td>0.392</td>\n",
       "      <td>0.396</td>\n",
       "      <td>1960.0</td>\n",
       "    </tr>\n",
       "    <tr>\n",
       "      <th>1992-02-12</th>\n",
       "      <td>0.396</td>\n",
       "      <td>0.400</td>\n",
       "      <td>0.394</td>\n",
       "      <td>0.398</td>\n",
       "      <td>1358.0</td>\n",
       "    </tr>\n",
       "    <tr>\n",
       "      <th>1992-02-13</th>\n",
       "      <td>0.399</td>\n",
       "      <td>0.401</td>\n",
       "      <td>0.397</td>\n",
       "      <td>0.400</td>\n",
       "      <td>1812.0</td>\n",
       "    </tr>\n",
       "    <tr>\n",
       "      <th>1992-02-14</th>\n",
       "      <td>0.400</td>\n",
       "      <td>0.401</td>\n",
       "      <td>0.397</td>\n",
       "      <td>0.397</td>\n",
       "      <td>1924.0</td>\n",
       "    </tr>\n",
       "    <tr>\n",
       "      <th>1992-02-17</th>\n",
       "      <td>0.396</td>\n",
       "      <td>0.397</td>\n",
       "      <td>0.389</td>\n",
       "      <td>0.391</td>\n",
       "      <td>1557.0</td>\n",
       "    </tr>\n",
       "    <tr>\n",
       "      <th>...</th>\n",
       "      <td>...</td>\n",
       "      <td>...</td>\n",
       "      <td>...</td>\n",
       "      <td>...</td>\n",
       "      <td>...</td>\n",
       "    </tr>\n",
       "    <tr>\n",
       "      <th>2019-06-20</th>\n",
       "      <td>13.170</td>\n",
       "      <td>13.950</td>\n",
       "      <td>13.120</td>\n",
       "      <td>13.800</td>\n",
       "      <td>1529191.0</td>\n",
       "    </tr>\n",
       "    <tr>\n",
       "      <th>2019-06-21</th>\n",
       "      <td>13.760</td>\n",
       "      <td>13.870</td>\n",
       "      <td>13.580</td>\n",
       "      <td>13.640</td>\n",
       "      <td>1011129.0</td>\n",
       "    </tr>\n",
       "    <tr>\n",
       "      <th>2019-06-24</th>\n",
       "      <td>13.690</td>\n",
       "      <td>13.830</td>\n",
       "      <td>13.610</td>\n",
       "      <td>13.690</td>\n",
       "      <td>659572.0</td>\n",
       "    </tr>\n",
       "    <tr>\n",
       "      <th>2019-06-25</th>\n",
       "      <td>13.720</td>\n",
       "      <td>13.720</td>\n",
       "      <td>13.070</td>\n",
       "      <td>13.430</td>\n",
       "      <td>1469227.0</td>\n",
       "    </tr>\n",
       "    <tr>\n",
       "      <th>2019-06-26</th>\n",
       "      <td>13.270</td>\n",
       "      <td>13.500</td>\n",
       "      <td>13.190</td>\n",
       "      <td>13.370</td>\n",
       "      <td>546504.0</td>\n",
       "    </tr>\n",
       "    <tr>\n",
       "      <th>2019-06-27</th>\n",
       "      <td>13.500</td>\n",
       "      <td>13.850</td>\n",
       "      <td>13.450</td>\n",
       "      <td>13.710</td>\n",
       "      <td>925074.0</td>\n",
       "    </tr>\n",
       "    <tr>\n",
       "      <th>2019-06-28</th>\n",
       "      <td>13.730</td>\n",
       "      <td>13.790</td>\n",
       "      <td>13.580</td>\n",
       "      <td>13.780</td>\n",
       "      <td>498093.0</td>\n",
       "    </tr>\n",
       "    <tr>\n",
       "      <th>2019-07-01</th>\n",
       "      <td>14.010</td>\n",
       "      <td>14.180</td>\n",
       "      <td>13.870</td>\n",
       "      <td>13.930</td>\n",
       "      <td>960636.0</td>\n",
       "    </tr>\n",
       "    <tr>\n",
       "      <th>2019-07-02</th>\n",
       "      <td>13.880</td>\n",
       "      <td>14.240</td>\n",
       "      <td>13.860</td>\n",
       "      <td>14.180</td>\n",
       "      <td>1052744.0</td>\n",
       "    </tr>\n",
       "    <tr>\n",
       "      <th>2019-07-03</th>\n",
       "      <td>14.180</td>\n",
       "      <td>14.210</td>\n",
       "      <td>13.870</td>\n",
       "      <td>14.010</td>\n",
       "      <td>769078.0</td>\n",
       "    </tr>\n",
       "    <tr>\n",
       "      <th>2019-07-04</th>\n",
       "      <td>14.010</td>\n",
       "      <td>14.280</td>\n",
       "      <td>13.880</td>\n",
       "      <td>13.990</td>\n",
       "      <td>621292.0</td>\n",
       "    </tr>\n",
       "    <tr>\n",
       "      <th>2019-07-05</th>\n",
       "      <td>13.950</td>\n",
       "      <td>13.980</td>\n",
       "      <td>13.690</td>\n",
       "      <td>13.920</td>\n",
       "      <td>749196.0</td>\n",
       "    </tr>\n",
       "    <tr>\n",
       "      <th>2019-07-08</th>\n",
       "      <td>13.820</td>\n",
       "      <td>13.880</td>\n",
       "      <td>13.450</td>\n",
       "      <td>13.590</td>\n",
       "      <td>778413.0</td>\n",
       "    </tr>\n",
       "    <tr>\n",
       "      <th>2019-07-09</th>\n",
       "      <td>13.630</td>\n",
       "      <td>13.710</td>\n",
       "      <td>13.440</td>\n",
       "      <td>13.590</td>\n",
       "      <td>494296.0</td>\n",
       "    </tr>\n",
       "    <tr>\n",
       "      <th>2019-07-10</th>\n",
       "      <td>13.610</td>\n",
       "      <td>13.700</td>\n",
       "      <td>13.490</td>\n",
       "      <td>13.560</td>\n",
       "      <td>358220.0</td>\n",
       "    </tr>\n",
       "    <tr>\n",
       "      <th>2019-07-11</th>\n",
       "      <td>13.680</td>\n",
       "      <td>13.780</td>\n",
       "      <td>13.530</td>\n",
       "      <td>13.540</td>\n",
       "      <td>484183.0</td>\n",
       "    </tr>\n",
       "    <tr>\n",
       "      <th>2019-07-12</th>\n",
       "      <td>13.600</td>\n",
       "      <td>14.230</td>\n",
       "      <td>13.580</td>\n",
       "      <td>14.120</td>\n",
       "      <td>1465366.0</td>\n",
       "    </tr>\n",
       "    <tr>\n",
       "      <th>2019-07-15</th>\n",
       "      <td>14.030</td>\n",
       "      <td>14.120</td>\n",
       "      <td>13.840</td>\n",
       "      <td>14.000</td>\n",
       "      <td>841282.0</td>\n",
       "    </tr>\n",
       "    <tr>\n",
       "      <th>2019-07-16</th>\n",
       "      <td>13.970</td>\n",
       "      <td>13.990</td>\n",
       "      <td>13.710</td>\n",
       "      <td>13.750</td>\n",
       "      <td>722780.0</td>\n",
       "    </tr>\n",
       "    <tr>\n",
       "      <th>2019-07-17</th>\n",
       "      <td>13.700</td>\n",
       "      <td>13.810</td>\n",
       "      <td>13.610</td>\n",
       "      <td>13.690</td>\n",
       "      <td>410020.0</td>\n",
       "    </tr>\n",
       "    <tr>\n",
       "      <th>2019-07-18</th>\n",
       "      <td>13.650</td>\n",
       "      <td>13.810</td>\n",
       "      <td>13.560</td>\n",
       "      <td>13.670</td>\n",
       "      <td>422826.0</td>\n",
       "    </tr>\n",
       "    <tr>\n",
       "      <th>2019-07-19</th>\n",
       "      <td>13.740</td>\n",
       "      <td>14.080</td>\n",
       "      <td>13.680</td>\n",
       "      <td>13.990</td>\n",
       "      <td>866390.0</td>\n",
       "    </tr>\n",
       "    <tr>\n",
       "      <th>2019-07-22</th>\n",
       "      <td>13.960</td>\n",
       "      <td>14.020</td>\n",
       "      <td>13.760</td>\n",
       "      <td>13.850</td>\n",
       "      <td>582283.0</td>\n",
       "    </tr>\n",
       "    <tr>\n",
       "      <th>2019-07-23</th>\n",
       "      <td>13.860</td>\n",
       "      <td>13.870</td>\n",
       "      <td>13.650</td>\n",
       "      <td>13.760</td>\n",
       "      <td>504004.0</td>\n",
       "    </tr>\n",
       "    <tr>\n",
       "      <th>2019-07-24</th>\n",
       "      <td>13.870</td>\n",
       "      <td>14.010</td>\n",
       "      <td>13.790</td>\n",
       "      <td>13.880</td>\n",
       "      <td>570276.0</td>\n",
       "    </tr>\n",
       "    <tr>\n",
       "      <th>2019-07-25</th>\n",
       "      <td>13.920</td>\n",
       "      <td>14.270</td>\n",
       "      <td>13.850</td>\n",
       "      <td>14.200</td>\n",
       "      <td>1087826.0</td>\n",
       "    </tr>\n",
       "    <tr>\n",
       "      <th>2019-07-26</th>\n",
       "      <td>14.180</td>\n",
       "      <td>14.250</td>\n",
       "      <td>14.080</td>\n",
       "      <td>14.230</td>\n",
       "      <td>635305.0</td>\n",
       "    </tr>\n",
       "    <tr>\n",
       "      <th>2019-07-29</th>\n",
       "      <td>14.250</td>\n",
       "      <td>14.450</td>\n",
       "      <td>14.180</td>\n",
       "      <td>14.290</td>\n",
       "      <td>715576.0</td>\n",
       "    </tr>\n",
       "    <tr>\n",
       "      <th>2019-07-30</th>\n",
       "      <td>14.310</td>\n",
       "      <td>14.550</td>\n",
       "      <td>14.290</td>\n",
       "      <td>14.370</td>\n",
       "      <td>796634.0</td>\n",
       "    </tr>\n",
       "    <tr>\n",
       "      <th>2019-07-31</th>\n",
       "      <td>14.300</td>\n",
       "      <td>14.320</td>\n",
       "      <td>14.080</td>\n",
       "      <td>14.130</td>\n",
       "      <td>634723.0</td>\n",
       "    </tr>\n",
       "  </tbody>\n",
       "</table>\n",
       "<p>6552 rows × 5 columns</p>\n",
       "</div>"
      ],
      "text/plain": [
       "                 O       H       L       C          V\n",
       "datetime                                             \n",
       "1992-01-02   0.561   0.564   0.554   0.556    11450.0\n",
       "1992-01-03   0.365   0.367   0.362   0.364     2212.0\n",
       "1992-01-06   0.364   0.372   0.363   0.371     2634.0\n",
       "1992-01-07   0.371   0.377   0.369   0.374     2931.0\n",
       "1992-01-08   0.372   0.377   0.369   0.371     1928.0\n",
       "1992-01-09   0.371   0.372   0.366   0.371     1535.0\n",
       "1992-01-10   0.371   0.372   0.369   0.372     1525.0\n",
       "1992-01-13   0.372   0.372   0.370   0.371     1353.0\n",
       "1992-01-14   0.371   0.371   0.362   0.365      711.0\n",
       "1992-01-15   0.365   0.367   0.362   0.364     2205.0\n",
       "1992-01-16   0.362   0.362   0.357   0.361     1268.0\n",
       "1992-01-17   0.361   0.361   0.354   0.360     1143.0\n",
       "1992-01-20   0.360   0.369   0.360   0.368     1085.0\n",
       "1992-01-21   0.369   0.372   0.365   0.366     1576.0\n",
       "1992-01-22   0.366   0.366   0.360   0.362     1592.0\n",
       "1992-01-23   0.362   0.366   0.362   0.365     1477.0\n",
       "1992-01-24   0.366   0.371   0.363   0.370     2327.0\n",
       "1992-01-27   0.369   0.370   0.366   0.367     2571.0\n",
       "1992-01-28   0.367   0.369   0.367   0.369     2336.0\n",
       "1992-01-29   0.369   0.376   0.369   0.375     2127.0\n",
       "1992-01-30   0.374   0.379   0.374   0.377     1735.0\n",
       "1992-01-31   0.379   0.390   0.379   0.389     2275.0\n",
       "1992-02-01   0.389   0.400   0.389   0.400     2228.0\n",
       "1992-02-02   0.400   0.409   0.399   0.404      735.0\n",
       "1992-02-10   0.404   0.406   0.386   0.395     1644.0\n",
       "1992-02-11   0.392   0.397   0.392   0.396     1960.0\n",
       "1992-02-12   0.396   0.400   0.394   0.398     1358.0\n",
       "1992-02-13   0.399   0.401   0.397   0.400     1812.0\n",
       "1992-02-14   0.400   0.401   0.397   0.397     1924.0\n",
       "1992-02-17   0.396   0.397   0.389   0.391     1557.0\n",
       "...            ...     ...     ...     ...        ...\n",
       "2019-06-20  13.170  13.950  13.120  13.800  1529191.0\n",
       "2019-06-21  13.760  13.870  13.580  13.640  1011129.0\n",
       "2019-06-24  13.690  13.830  13.610  13.690   659572.0\n",
       "2019-06-25  13.720  13.720  13.070  13.430  1469227.0\n",
       "2019-06-26  13.270  13.500  13.190  13.370   546504.0\n",
       "2019-06-27  13.500  13.850  13.450  13.710   925074.0\n",
       "2019-06-28  13.730  13.790  13.580  13.780   498093.0\n",
       "2019-07-01  14.010  14.180  13.870  13.930   960636.0\n",
       "2019-07-02  13.880  14.240  13.860  14.180  1052744.0\n",
       "2019-07-03  14.180  14.210  13.870  14.010   769078.0\n",
       "2019-07-04  14.010  14.280  13.880  13.990   621292.0\n",
       "2019-07-05  13.950  13.980  13.690  13.920   749196.0\n",
       "2019-07-08  13.820  13.880  13.450  13.590   778413.0\n",
       "2019-07-09  13.630  13.710  13.440  13.590   494296.0\n",
       "2019-07-10  13.610  13.700  13.490  13.560   358220.0\n",
       "2019-07-11  13.680  13.780  13.530  13.540   484183.0\n",
       "2019-07-12  13.600  14.230  13.580  14.120  1465366.0\n",
       "2019-07-15  14.030  14.120  13.840  14.000   841282.0\n",
       "2019-07-16  13.970  13.990  13.710  13.750   722780.0\n",
       "2019-07-17  13.700  13.810  13.610  13.690   410020.0\n",
       "2019-07-18  13.650  13.810  13.560  13.670   422826.0\n",
       "2019-07-19  13.740  14.080  13.680  13.990   866390.0\n",
       "2019-07-22  13.960  14.020  13.760  13.850   582283.0\n",
       "2019-07-23  13.860  13.870  13.650  13.760   504004.0\n",
       "2019-07-24  13.870  14.010  13.790  13.880   570276.0\n",
       "2019-07-25  13.920  14.270  13.850  14.200  1087826.0\n",
       "2019-07-26  14.180  14.250  14.080  14.230   635305.0\n",
       "2019-07-29  14.250  14.450  14.180  14.290   715576.0\n",
       "2019-07-30  14.310  14.550  14.290  14.370   796634.0\n",
       "2019-07-31  14.300  14.320  14.080  14.130   634723.0\n",
       "\n",
       "[6552 rows x 5 columns]"
      ]
     },
     "execution_count": 6,
     "metadata": {},
     "output_type": "execute_result"
    }
   ],
   "source": [
    "# period = 300, 900, 1800, 7200, 14400, or 86400\n",
    "#ohlc_df = vbt.data.load_cryptopair('USDT_ETH', vbt.data.ago_dt(days=180), vbt.data.now_dt(), period=vbt.data.Period.D1)\n",
    "#ohlc_df.head()\n",
    "\n",
    "\n",
    "columns_def = [\n",
    "            \"Date\",\"Open\",\"High\",\"Low\",\"Close\",\"Adj Close\",\"Volume\"\n",
    "        ]\n",
    "\n",
    "column_type = {\n",
    "    'Date': np.str,\n",
    "    'Open': np.float64,\n",
    "    'High': np.float64,\n",
    "    'Low': np.float64,\n",
    "    'Close': np.float64,\n",
    "    'Adj Close': np.float64,\n",
    "    'Volume': np.float64,\n",
    "}\n",
    "\n",
    "filePath = r\"D:\\BackTraderCN\\Class1\\stock_data\\000001.csv\"\n",
    "\n",
    "stock_code_daily = pd.read_csv(filePath,\n",
    "                             dtype=column_type,\n",
    "                             header=0)\n",
    "\n",
    "index = pd.DatetimeIndex(pd.to_datetime(stock_code_daily['Date'], format=\"%Y-%m-%d\", errors='coerce'))\n",
    "stock_code_daily.set_index(index, inplace= True)\n",
    "stock_code_daily.index.set_names(['datetime'], inplace=True)\n",
    "stock_code_daily.dropna(inplace=True)\n",
    "\n",
    "print(stock_code_daily)\n",
    "\n",
    "ohlc_df = stock_code_daily.rename(columns={'Open': 'O', 'High': 'H', 'Low': 'L', 'Close': 'C', 'Volume': 'V'})\n",
    "\n",
    "\n",
    "\n",
    "\n",
    "ohlc_df = ohlc_df[['O', 'H', 'L', 'C', 'V']]\n",
    "\n",
    "ohlc_df"
   ]
  },
  {
   "cell_type": "code",
   "execution_count": 7,
   "metadata": {
    "ExecuteTime": {
     "end_time": "2019-08-04T17:01:29.692325Z",
     "start_time": "2019-08-04T17:01:29.689315Z"
    },
    "collapsed": true
   },
   "outputs": [],
   "source": [
    "# No future data\n",
    "rate_sr = ohlc_df.O"
   ]
  },
  {
   "cell_type": "code",
   "execution_count": 8,
   "metadata": {
    "ExecuteTime": {
     "end_time": "2019-08-04T17:01:30.375225Z",
     "start_time": "2019-08-04T17:01:30.338152Z"
    },
    "collapsed": true
   },
   "outputs": [],
   "source": [
    "# Fees and slippage\n",
    "investment = 1000\n",
    "fees = 0.0025\n",
    "slippage_factor = 0.25\n",
    "slippage = (ohlc_df['H'] - ohlc_df['L']) * slippage_factor / rate_sr"
   ]
  },
  {
   "cell_type": "code",
   "execution_count": 9,
   "metadata": {
    "ExecuteTime": {
     "end_time": "2019-08-04T17:01:31.468438Z",
     "start_time": "2019-08-04T17:01:31.289932Z"
    },
    "collapsed": false
   },
   "outputs": [
    {
     "name": "stdout",
     "output_type": "stream",
     "text": [
      "    count     mean       std   min   25%   50%     75%     max\n",
      "O  6552.0  4.81043  3.354575  0.36  2.14  4.19  6.9415  14.909\n"
     ]
    },
    {
     "name": "stderr",
     "output_type": "stream",
     "text": [
      "C:\\Anaconda3\\lib\\site-packages\\pandas\\plotting\\_converter.py:129: FutureWarning: Using an implicitly registered datetime converter for a matplotlib plotting method. The converter was registered by pandas on import. Future versions of pandas will require you to explicitly register matplotlib converters.\n",
      "\n",
      "To register the converters:\n",
      "\t>>> from pandas.plotting import register_matplotlib_converters\n",
      "\t>>> register_matplotlib_converters()\n",
      "  warnings.warn(msg, FutureWarning)\n"
     ]
    },
    {
     "data": {
      "image/png": "[encoded data removed]",
      "text/plain": [
       "<Figure size 864x360 with 1 Axes>"
      ]
     },
     "metadata": {},
     "output_type": "display_data"
    }
   ],
   "source": [
    "vbt.graphics.plot_line(rate_sr)"
   ]
  },
  {
   "cell_type": "markdown",
   "metadata": {},
   "source": [
    "# indicators"
   ]
  },
  {
   "cell_type": "markdown",
   "metadata": {},
   "source": [
    "Calculate EMA indicators."
   ]
  },
  {
   "cell_type": "code",
   "execution_count": 10,
   "metadata": {
    "ExecuteTime": {
     "end_time": "2019-08-04T17:01:38.088355Z",
     "start_time": "2019-08-04T17:01:38.082341Z"
    },
    "collapsed": true
   },
   "outputs": [],
   "source": [
    "fast_ma_sr = vbt.indicators.EMA(rate_sr, span=5)\n",
    "slow_ma_sr = vbt.indicators.EMA(rate_sr, span=21)"
   ]
  },
  {
   "cell_type": "markdown",
   "metadata": {},
   "source": [
    "# signals"
   ]
  },
  {
   "cell_type": "markdown",
   "metadata": {},
   "source": [
    "Generate signals based on conditions."
   ]
  },
  {
   "cell_type": "markdown",
   "metadata": {},
   "source": [
    "    1. Go long whenever fast EMA is over slow EMA, while go short when opposite occurs."
   ]
  },
  {
   "cell_type": "code",
   "execution_count": 11,
   "metadata": {
    "ExecuteTime": {
     "end_time": "2019-08-04T17:01:41.597396Z",
     "start_time": "2019-08-04T17:01:41.593387Z"
    },
    "collapsed": true
   },
   "outputs": [],
   "source": [
    "ma_entries = vbt.signals.DMAC_entries(fast_ma_sr, slow_ma_sr)\n",
    "ma_exits = vbt.signals.DMAC_exits(fast_ma_sr, slow_ma_sr)"
   ]
  },
  {
   "cell_type": "markdown",
   "metadata": {},
   "source": [
    "Both, entry and exit vectors, are sequences of 0 and 1 (bit-vectors) to allow fast vector operations."
   ]
  },
  {
   "cell_type": "markdown",
   "metadata": {},
   "source": [
    "We reduce both vectors to contain only signals that are first in their sequences, since we are looking for crossover."
   ]
  },
  {
   "cell_type": "code",
   "execution_count": 12,
   "metadata": {
    "ExecuteTime": {
     "end_time": "2019-08-04T17:01:43.165093Z",
     "start_time": "2019-08-04T17:01:43.161083Z"
    },
    "collapsed": true
   },
   "outputs": [],
   "source": [
    "ma_entries = vbt.bitvector.first(ma_entries)\n",
    "ma_exits = vbt.bitvector.first(ma_exits)"
   ]
  },
  {
   "cell_type": "markdown",
   "metadata": {},
   "source": [
    "    2. Go short whenever price drops by 10%."
   ]
  },
  {
   "cell_type": "code",
   "execution_count": 13,
   "metadata": {
    "ExecuteTime": {
     "end_time": "2019-08-04T17:01:44.212913Z",
     "start_time": "2019-08-04T17:01:44.209900Z"
    },
    "collapsed": true
   },
   "outputs": [],
   "source": [
    "# trailstop_exits = vbt.signals.trailstop_exits(rate_sr, ma_entries, 0.1 * rate_sr)"
   ]
  },
  {
   "cell_type": "markdown",
   "metadata": {},
   "source": [
    "Combine MA exit strategy with trailing stop and pick every first exit out of sequence."
   ]
  },
  {
   "cell_type": "code",
   "execution_count": 14,
   "metadata": {
    "ExecuteTime": {
     "end_time": "2019-08-04T17:01:45.300606Z",
     "start_time": "2019-08-04T17:01:45.297600Z"
    },
    "collapsed": true
   },
   "outputs": [],
   "source": [
    "# ma_exits = vbt.bitvector.OR(ma_exits, trailstop_exits)\n",
    "# ma_exits = vbt.bitvector.first(ma_exits)"
   ]
  },
  {
   "cell_type": "markdown",
   "metadata": {},
   "source": [
    "To apply an additional filter, generate your own bit-vector and use `vector.AND/OR/XOR` operations."
   ]
  },
  {
   "cell_type": "markdown",
   "metadata": {},
   "source": [
    "# positions"
   ]
  },
  {
   "cell_type": "markdown",
   "metadata": {},
   "source": [
    "Generete positions out of both vectors (merge and reduce)."
   ]
  },
  {
   "cell_type": "code",
   "execution_count": 15,
   "metadata": {
    "ExecuteTime": {
     "end_time": "2019-08-04T17:01:46.935196Z",
     "start_time": "2019-08-04T17:01:46.929177Z"
    },
    "collapsed": false
   },
   "outputs": [
    {
     "data": {
      "text/plain": [
       "datetime\n",
       "1992-01-31    1\n",
       "1992-06-05   -1\n",
       "1992-07-01    1\n",
       "1992-08-14   -1\n",
       "1992-09-14    1\n",
       "dtype: int32"
      ]
     },
     "execution_count": 15,
     "metadata": {},
     "output_type": "execute_result"
    }
   ],
   "source": [
    "pos_sr = vbt.positions.from_signals(rate_sr, ma_entries, ma_exits)\n",
    "pos_sr.head()"
   ]
  },
  {
   "cell_type": "markdown",
   "metadata": {},
   "source": [
    "Position series is a binary series, where 1 = going long and -1 = going short. There is no two long/short positions in a row, since we want a clean way to evaluate a strategy (only the logic of a strategy must have an impact on the equity, not the investment size or its distribution)"
   ]
  },
  {
   "cell_type": "markdown",
   "metadata": {},
   "source": [
    "Visualize entries and exits."
   ]
  },
  {
   "cell_type": "code",
   "execution_count": 16,
   "metadata": {
    "ExecuteTime": {
     "end_time": "2019-08-04T17:01:51.079814Z",
     "start_time": "2019-08-04T17:01:50.905357Z"
    },
    "collapsed": false
   },
   "outputs": [
    {
     "name": "stdout",
     "output_type": "stream",
     "text": [
      "   count      mean       std    min      25%     50%     75%   max\n",
      "0  176.0  0.076972  0.678822 -1.378 -0.20775 -0.0745  0.0135  2.92\n"
     ]
    },
    {
     "data": {
      "image/png": "[encoded data removed]",
      "text/plain": [
       "<Figure size 864x360 with 1 Axes>"
      ]
     },
     "metadata": {},
     "output_type": "display_data"
    }
   ],
   "source": [
    "vbt.positions.plot(rate_sr, pos_sr)"
   ]
  },
  {
   "cell_type": "markdown",
   "metadata": {},
   "source": [
    "# equity"
   ]
  },
  {
   "cell_type": "markdown",
   "metadata": {},
   "source": [
    "Generate equity from positions, based on fees and slippage."
   ]
  },
  {
   "cell_type": "code",
   "execution_count": 18,
   "metadata": {
    "ExecuteTime": {
     "end_time": "2019-08-04T17:02:05.610057Z",
     "start_time": "2019-08-04T17:02:05.602035Z"
    },
    "collapsed": false
   },
   "outputs": [
    {
     "data": {
      "text/plain": [
       "datetime\n",
       "1992-01-02            NaN\n",
       "1992-01-03            NaN\n",
       "1992-01-06            NaN\n",
       "1992-01-07            NaN\n",
       "1992-01-08            NaN\n",
       "1992-01-09            NaN\n",
       "1992-01-10            NaN\n",
       "1992-01-13            NaN\n",
       "1992-01-14            NaN\n",
       "1992-01-15            NaN\n",
       "1992-01-16            NaN\n",
       "1992-01-17            NaN\n",
       "1992-01-20            NaN\n",
       "1992-01-21            NaN\n",
       "1992-01-22            NaN\n",
       "1992-01-23            NaN\n",
       "1992-01-24            NaN\n",
       "1992-01-27            NaN\n",
       "1992-01-28            NaN\n",
       "1992-01-29            NaN\n",
       "1992-01-30            NaN\n",
       "1992-01-31     990.262203\n",
       "1992-02-01    1016.390493\n",
       "1992-02-02    1045.131613\n",
       "1992-02-10    1055.582929\n",
       "1992-02-11    1024.228981\n",
       "1992-02-12    1034.680297\n",
       "1992-02-13    1042.518784\n",
       "1992-02-14    1045.131613\n",
       "1992-02-17    1034.680297\n",
       "                 ...     \n",
       "2019-06-20     888.206532\n",
       "2019-06-21     927.997106\n",
       "2019-06-24     923.276190\n",
       "2019-06-25     925.299440\n",
       "2019-06-26     894.950697\n",
       "2019-06-27     910.462277\n",
       "2019-06-28     925.973856\n",
       "2019-07-01     944.857518\n",
       "2019-07-02     936.090104\n",
       "2019-07-03     956.322599\n",
       "2019-07-04     944.857518\n",
       "2019-07-05     940.811019\n",
       "2019-07-08     932.043605\n",
       "2019-07-09     919.229691\n",
       "2019-07-10     917.880858\n",
       "2019-07-11     922.601774\n",
       "2019-07-12     917.206442\n",
       "2019-07-15     946.206351\n",
       "2019-07-16     942.159852\n",
       "2019-07-17     923.950607\n",
       "2019-07-18     920.578524\n",
       "2019-07-19     926.648273\n",
       "2019-07-22     941.485436\n",
       "2019-07-23     934.741271\n",
       "2019-07-24     935.415687\n",
       "2019-07-25     938.787770\n",
       "2019-07-26     956.322599\n",
       "2019-07-29     961.043514\n",
       "2019-07-30     965.090013\n",
       "2019-07-31     964.415597\n",
       "Length: 6552, dtype: float64"
      ]
     },
     "execution_count": 18,
     "metadata": {},
     "output_type": "execute_result"
    }
   ],
   "source": [
    "equity_sr = vbt.equity.from_positions(rate_sr, pos_sr, investment, fees, slippage)\n",
    "equity_sr"
   ]
  },
  {
   "cell_type": "markdown",
   "metadata": {},
   "source": [
    "Equity is NaN before the first entry or if no positions were taken."
   ]
  },
  {
   "cell_type": "markdown",
   "metadata": {},
   "source": [
    "Visualize base and quote equities."
   ]
  },
  {
   "cell_type": "code",
   "execution_count": 19,
   "metadata": {
    "ExecuteTime": {
     "end_time": "2019-08-04T17:02:11.980483Z",
     "start_time": "2019-08-04T17:02:11.578412Z"
    },
    "collapsed": false,
    "scrolled": false
   },
   "outputs": [
    {
     "name": "stdout",
     "output_type": "stream",
     "text": [
      "base: equity - hold\n",
      "    count         mean          std           min           25%          50%  \\\n",
      "0  6531.0 -6171.811854  6649.020814 -24944.704342 -11023.640626 -3485.792623   \n",
      "\n",
      "        75%          max  \n",
      "0 -53.38896  2422.751414  \n"
     ]
    },
    {
     "data": {
      "image/png": "[encoded data removed]",
      "text/plain": [
       "<Figure size 864x360 with 1 Axes>"
      ]
     },
     "metadata": {},
     "output_type": "display_data"
    },
    {
     "name": "stdout",
     "output_type": "stream",
     "text": [
      "quote: equity - hold\n",
      "    count        mean          std         min         25%          50%  \\\n",
      "0  6531.0 -774.933444  1041.046339 -1702.42356 -1587.42509 -1208.296108   \n",
      "\n",
      "         75%         max  \n",
      "0 -13.924103  3380.42245  \n"
     ]
    },
    {
     "data": {
      "image/png": "[encoded data removed]",
      "text/plain": [
       "<Figure size 864x360 with 1 Axes>"
      ]
     },
     "metadata": {},
     "output_type": "display_data"
    }
   ],
   "source": [
    "vbt.equity.plot(rate_sr, equity_sr)"
   ]
  },
  {
   "cell_type": "markdown",
   "metadata": {},
   "source": [
    "# returns"
   ]
  },
  {
   "cell_type": "markdown",
   "metadata": {},
   "source": [
    "Generate returns."
   ]
  },
  {
   "cell_type": "code",
   "execution_count": 20,
   "metadata": {
    "ExecuteTime": {
     "end_time": "2019-08-04T17:02:16.992802Z",
     "start_time": "2019-08-04T17:02:16.985761Z"
    },
    "collapsed": false
   },
   "outputs": [
    {
     "data": {
      "text/plain": [
       "datetime\n",
       "1992-01-02    0.0\n",
       "1992-01-03    0.0\n",
       "1992-01-06    0.0\n",
       "1992-01-07    0.0\n",
       "1992-01-08    0.0\n",
       "dtype: float64"
      ]
     },
     "execution_count": 20,
     "metadata": {},
     "output_type": "execute_result"
    }
   ],
   "source": [
    "returns_sr = vbt.returns.from_equity(equity_sr)\n",
    "returns_sr.head()"
   ]
  },
  {
   "cell_type": "markdown",
   "metadata": {},
   "source": [
    "Draw returns."
   ]
  },
  {
   "cell_type": "code",
   "execution_count": 21,
   "metadata": {
    "ExecuteTime": {
     "end_time": "2019-08-04T17:02:19.112280Z",
     "start_time": "2019-08-04T17:02:18.841559Z"
    },
    "collapsed": false
   },
   "outputs": [
    {
     "name": "stdout",
     "output_type": "stream",
     "text": [
      "    count      mean       std      min       25%  50%  75%       max\n",
      "0  1440.0  0.000958  0.045065 -0.25232 -0.010407  0.0  0.0  0.369902\n"
     ]
    },
    {
     "data": {
      "image/png": "[encoded data removed]",
      "text/plain": [
       "<Figure size 864x360 with 1 Axes>"
      ]
     },
     "metadata": {},
     "output_type": "display_data"
    }
   ],
   "source": [
    "vbt.returns.plot(vbt.returns.resample(returns_sr, 'W'))"
   ]
  },
  {
   "cell_type": "markdown",
   "metadata": {},
   "source": [
    "# performance"
   ]
  },
  {
   "cell_type": "markdown",
   "metadata": {},
   "source": [
    "Print summary of multiple KPIs applied on returns."
   ]
  },
  {
   "cell_type": "code",
   "execution_count": 22,
   "metadata": {
    "ExecuteTime": {
     "end_time": "2019-08-04T17:02:24.252659Z",
     "start_time": "2019-08-04T17:02:24.208533Z"
    },
    "collapsed": false
   },
   "outputs": [
    {
     "data": {
      "text/plain": [
       "distribution         count         6552.000000\n",
       "                     mean             0.000217\n",
       "                     std              0.021208\n",
       "                     min             -0.144234\n",
       "                     25%             -0.002106\n",
       "                     50%              0.000000\n",
       "                     75%              0.000000\n",
       "                     max              0.260197\n",
       "performance          profit          -0.026101\n",
       "                     avggain          0.023153\n",
       "                     avgloss          0.018314\n",
       "                     winrate          0.452479\n",
       "                     expectancy      -0.000008\n",
       "                     maxdd            0.960495\n",
       "risk/return profile  sharpe           0.010225\n",
       "                     sortino          0.011908\n",
       "dtype: float64"
      ]
     },
     "execution_count": 22,
     "metadata": {},
     "output_type": "execute_result"
    }
   ],
   "source": [
    "vbt.performance.summary(returns_sr)"
   ]
  },
  {
   "cell_type": "markdown",
   "metadata": {},
   "source": [
    "# optimizer.gridsearch"
   ]
  },
  {
   "cell_type": "markdown",
   "metadata": {},
   "source": [
    "The classic optimization method is grid search (or exhaustive search). It exhaustively generates candidates from a grid of parameter values and applies them on the series. \n",
    "\n",
    "This method brings some advantages:\n",
    "- its simple to implement\n",
    "- 2d-combinations can be visualized using heatmaps\n",
    "- can be used to discover hidden patterns in combinations\n",
    "- highly parallelizable\n",
    "\n",
    "But also drawbacks are possible:\n",
    "- not flexible enough to fit changing financial markets\n",
    "- prone to overfitting\n",
    "- no intermediate feedback"
   ]
  },
  {
   "cell_type": "markdown",
   "metadata": {},
   "source": [
    "**Grid search consists of 3-4 levels:**\n",
    "\n",
    "| Level | Motivation | Module | Structure |\n",
    "|-|-|-|-|\n",
    "| 1 | Calculate position/equity/returns maps | `srmap` | `{param: pd.Series}` |\n",
    "| 2 | Calculate KPIs | `nummap` | `pd.Series` |\n",
    "| 3 (optional) | Combine multiple KPIs into a single score and compare | `scoremap` | `pd.Series` |\n",
    "| 4 | Build heatmap to examine hidden patterns | `matrix` | `pd.DataFrame` |"
   ]
  },
  {
   "cell_type": "markdown",
   "metadata": {},
   "source": [
    "At the end we will be able to compare performance of different trading strategies."
   ]
  },
  {
   "cell_type": "markdown",
   "metadata": {},
   "source": [
    "## L1\n",
    "## srmap"
   ]
  },
  {
   "cell_type": "code",
   "execution_count": 23,
   "metadata": {
    "ExecuteTime": {
     "end_time": "2019-08-04T17:02:30.539639Z",
     "start_time": "2019-08-04T17:02:30.537633Z"
    },
    "collapsed": true
   },
   "outputs": [],
   "source": [
    "import vectorbt.optimizer.gridsearch as grids"
   ]
  },
  {
   "cell_type": "markdown",
   "metadata": {},
   "source": [
    "Calculate returns for a set of MA window combinations."
   ]
  },
  {
   "cell_type": "markdown",
   "metadata": {},
   "source": [
    "    1. Precalculate all MAs."
   ]
  },
  {
   "cell_type": "code",
   "execution_count": 24,
   "metadata": {
    "ExecuteTime": {
     "end_time": "2019-08-04T17:02:32.571300Z",
     "start_time": "2019-08-04T17:02:32.456998Z"
    },
    "collapsed": false
   },
   "outputs": [
    {
     "name": "stdout",
     "output_type": "stream",
     "text": [
      "cores: 4\n",
      "processes: 1\n",
      "starmap: False\n",
      "calcs: 100 (~0.18s) ..\n",
      "done. 0.11s\n"
     ]
    }
   ],
   "source": [
    "# Init\n",
    "ma_func = lambda span: vbt.indicators.EMA(rate_sr, span=span)\n",
    "min_ma, max_ma, step = 1, 100, 1\n",
    "fees = 0.0025\n",
    "\n",
    "# Cache moving averages\n",
    "param_range = grids.params.range_params(min_ma, max_ma, step)\n",
    "ma_cache = dict(grids.srmap.from_func(ma_func, param_range))"
   ]
  },
  {
   "cell_type": "markdown",
   "metadata": {},
   "source": [
    "    2. For each MA combination, generate position series."
   ]
  },
  {
   "cell_type": "code",
   "execution_count": 25,
   "metadata": {
    "ExecuteTime": {
     "end_time": "2019-08-04T17:02:35.621437Z",
     "start_time": "2019-08-04T17:02:35.617428Z"
    },
    "collapsed": true
   },
   "outputs": [],
   "source": [
    "# Params\n",
    "ma_space = grids.params.combine_rep_params(min_ma, max_ma, step, 2)\n",
    "\n",
    "# Func\n",
    "def ma_positions_func(fast_ma, slow_ma):\n",
    "    # Cache\n",
    "    fast_ma_sr = ma_cache[fast_ma]\n",
    "    slow_ma_sr = ma_cache[slow_ma]\n",
    "    # Signals\n",
    "    entries = vbt.signals.DMAC_entries(fast_ma_sr, slow_ma_sr)\n",
    "    entries = vbt.bitvector.first(entries)\n",
    "    exits = vbt.signals.DMAC_exits(fast_ma_sr, slow_ma_sr)\n",
    "    exits = vbt.bitvector.first(exits)\n",
    "    # Positions\n",
    "    pos_sr = vbt.positions.from_signals(rate_sr, entries, exits)\n",
    "    return pos_sr"
   ]
  },
  {
   "cell_type": "code",
   "execution_count": 26,
   "metadata": {
    "ExecuteTime": {
     "end_time": "2019-08-04T17:02:42.112968Z",
     "start_time": "2019-08-04T17:02:36.729658Z"
    },
    "collapsed": false
   },
   "outputs": [
    {
     "name": "stdout",
     "output_type": "stream",
     "text": [
      "cores: 4\n",
      "processes: 1\n",
      "starmap: True\n",
      "calcs: 5050 (~13.30s) ..\n",
      "done. 5.38s\n"
     ]
    }
   ],
   "source": [
    "ma_positions_srmap = grids.srmap.from_func(ma_positions_func, ma_space)"
   ]
  },
  {
   "cell_type": "markdown",
   "metadata": {},
   "source": [
    "    3. For each position series, generate returns series."
   ]
  },
  {
   "cell_type": "markdown",
   "metadata": {},
   "source": [
    "We need to separate position and returns calculation, since we need number of positions of each MA combination for a random map."
   ]
  },
  {
   "cell_type": "code",
   "execution_count": 27,
   "metadata": {
    "ExecuteTime": {
     "end_time": "2019-08-04T17:02:42.120992Z",
     "start_time": "2019-08-04T17:02:42.113973Z"
    },
    "collapsed": true
   },
   "outputs": [],
   "source": [
    "def ma_returns_func(fast_ma, slow_ma):\n",
    "    # Equity\n",
    "    pos_sr = ma_positions_srmap[(fast_ma, slow_ma)]\n",
    "    equity_sr = vbt.equity.from_positions(rate_sr, pos_sr, investment, fees, slippage)\n",
    "    # Returns\n",
    "    returns_sr = vbt.returns.from_equity(equity_sr)\n",
    "    return returns_sr"
   ]
  },
  {
   "cell_type": "code",
   "execution_count": 28,
   "metadata": {
    "ExecuteTime": {
     "end_time": "2019-08-04T17:02:53.278652Z",
     "start_time": "2019-08-04T17:02:42.124002Z"
    },
    "collapsed": false
   },
   "outputs": [
    {
     "name": "stdout",
     "output_type": "stream",
     "text": [
      "cores: 4\n",
      "processes: 1\n",
      "starmap: True\n",
      "calcs: 5050 (~12.31s) ..\n",
      "done. 11.14s\n"
     ]
    }
   ],
   "source": [
    "ma_returns_srmap = grids.srmap.from_func(ma_returns_func, ma_space)"
   ]
  },
  {
   "cell_type": "markdown",
   "metadata": {},
   "source": [
    "For each MA window combination generate random positions of same length and resulting returns. "
   ]
  },
  {
   "cell_type": "code",
   "execution_count": 29,
   "metadata": {
    "ExecuteTime": {
     "end_time": "2019-08-04T17:02:53.319761Z",
     "start_time": "2019-08-04T17:02:53.280658Z"
    },
    "collapsed": true
   },
   "outputs": [],
   "source": [
    "# Params\n",
    "random_space = [(fma, sma, len(np.flatnonzero(ma_positions_srmap[(fma, sma)].values))) for fma, sma in ma_space]\n",
    "\n",
    "# Func\n",
    "def random_returns_func(slow_ma, fast_ma, n):\n",
    "    # Positions\n",
    "    pos_sr = vbt.positions.random(rate_sr, n)\n",
    "    # Equity\n",
    "    equity_sr = vbt.equity.from_positions(rate_sr, pos_sr, investment, fees, slippage)\n",
    "    # Returns\n",
    "    returns_sr = vbt.returns.from_equity(equity_sr)\n",
    "    return returns_sr"
   ]
  },
  {
   "cell_type": "code",
   "execution_count": 30,
   "metadata": {
    "ExecuteTime": {
     "end_time": "2019-08-04T17:03:10.053245Z",
     "start_time": "2019-08-04T17:02:53.321767Z"
    },
    "collapsed": false
   },
   "outputs": [
    {
     "name": "stdout",
     "output_type": "stream",
     "text": [
      "cores: 4\n",
      "processes: 1\n",
      "starmap: True\n",
      "calcs: 5050 (~166.93s) ..\n",
      "done. 16.69s\n"
     ]
    }
   ],
   "source": [
    "random_returns_srmap = grids.srmap.from_func(random_returns_func, random_space)"
   ]
  },
  {
   "cell_type": "markdown",
   "metadata": {},
   "source": [
    "## L2\n",
    "## nummap"
   ]
  },
  {
   "cell_type": "markdown",
   "metadata": {},
   "source": [
    "Apply KPI on each returns series."
   ]
  },
  {
   "cell_type": "code",
   "execution_count": 31,
   "metadata": {
    "ExecuteTime": {
     "end_time": "2019-08-04T17:03:14.470990Z",
     "start_time": "2019-08-04T17:03:10.055251Z"
    },
    "collapsed": false
   },
   "outputs": [
    {
     "name": "stdout",
     "output_type": "stream",
     "text": [
      "cores: 4\n",
      "processes: 1\n",
      "starmap: False\n",
      "calcs: 5050 (~7.02s) ..\n",
      "done. 4.39s\n",
      "min (1, 2): -0.9999999999951118\n",
      "max (25, 88): 115.2245840135671\n"
     ]
    }
   ],
   "source": [
    "if_i_hold = vbt.performance.profit(rate_sr.pct_change())\n",
    "profit = lambda r: vbt.performance.profit(r) - if_i_hold\n",
    "ma_profit_nummap = grids.nummap.from_srmap(ma_returns_srmap, vbt.performance.profit)"
   ]
  },
  {
   "cell_type": "code",
   "execution_count": 32,
   "metadata": {
    "ExecuteTime": {
     "end_time": "2019-08-04T17:03:20.710772Z",
     "start_time": "2019-08-04T17:03:20.217463Z"
    },
    "collapsed": false
   },
   "outputs": [
    {
     "name": "stdout",
     "output_type": "stream",
     "text": [
      "cores: 4\n",
      "processes: 1\n",
      "starmap: False\n",
      "calcs: 5050 (~3.09s) ..\n",
      "done. 0.48s\n",
      "min (1, 2): -2.53809389288428\n",
      "max (25, 88): 0.7141917133548366\n"
     ]
    }
   ],
   "source": [
    "sharpe = lambda r: vbt.performance.sharpe(r, nperiods=252)\n",
    "ma_sharpe_nummap = grids.nummap.from_srmap(ma_returns_srmap, sharpe)"
   ]
  },
  {
   "cell_type": "code",
   "execution_count": 33,
   "metadata": {
    "ExecuteTime": {
     "end_time": "2019-08-04T17:03:26.854105Z",
     "start_time": "2019-08-04T17:03:22.497495Z"
    },
    "collapsed": false
   },
   "outputs": [
    {
     "name": "stdout",
     "output_type": "stream",
     "text": [
      "cores: 4\n",
      "processes: 1\n",
      "starmap: False\n",
      "calcs: 5050 (~6.84s) ..\n",
      "done. 4.34s\n",
      "min (1, 2, 2591): -0.9999999999725\n",
      "max (60, 77, 49): 236.50038645860613\n"
     ]
    }
   ],
   "source": [
    "random_profit_nummap = grids.nummap.from_srmap(random_returns_srmap, vbt.performance.profit)"
   ]
  },
  {
   "cell_type": "markdown",
   "metadata": {},
   "source": [
    "Compare quantile distributions of EMA and random strategy."
   ]
  },
  {
   "cell_type": "code",
   "execution_count": 34,
   "metadata": {
    "ExecuteTime": {
     "end_time": "2019-08-04T17:03:27.029570Z",
     "start_time": "2019-08-04T17:03:26.856109Z"
    },
    "collapsed": false
   },
   "outputs": [
    {
     "name": "stdout",
     "output_type": "stream",
     "text": [
      "            count      mean        std  min        25%        50%        75%  \\\n",
      "nummap     5050.0  40.71107  27.584531 -1.0  16.709700  41.734471  63.188607   \n",
      "benchmark  5050.0   4.62208  12.522365 -1.0  -0.302004   0.907313   4.300538   \n",
      "\n",
      "                  max  \n",
      "nummap     115.224584  \n",
      "benchmark  236.500386  \n"
     ]
    },
    {
     "data": {
      "image/png": "[encoded data removed]",
      "text/plain": [
       "<Figure size 864x360 with 1 Axes>"
      ]
     },
     "metadata": {},
     "output_type": "display_data"
    }
   ],
   "source": [
    "grids.nummap.compare_quantiles(ma_profit_nummap, random_profit_nummap)"
   ]
  },
  {
   "cell_type": "markdown",
   "metadata": {},
   "source": [
    "Compare their KPI distributions."
   ]
  },
  {
   "cell_type": "code",
   "execution_count": 35,
   "metadata": {
    "ExecuteTime": {
     "end_time": "2019-08-04T17:03:34.319882Z",
     "start_time": "2019-08-04T17:03:33.873724Z"
    },
    "collapsed": false
   },
   "outputs": [
    {
     "name": "stdout",
     "output_type": "stream",
     "text": [
      "            count      mean        std  min        25%        50%        75%  \\\n",
      "nummap     5050.0  40.71107  27.584531 -1.0  16.709700  41.734471  63.188607   \n",
      "benchmark  5050.0   4.62208  12.522365 -1.0  -0.302004   0.907313   4.300538   \n",
      "\n",
      "                  max  \n",
      "nummap     115.224584  \n",
      "benchmark  236.500386  \n"
     ]
    },
    {
     "data": {
      "image/png": "[encoded data removed]",
      "text/plain": [
       "<Figure size 864x360 with 1 Axes>"
      ]
     },
     "metadata": {},
     "output_type": "display_data"
    },
    {
     "data": {
      "image/png": "[encoded data removed]",
      "text/plain": [
       "<Figure size 864x360 with 1 Axes>"
      ]
     },
     "metadata": {},
     "output_type": "display_data"
    }
   ],
   "source": [
    "cmap = plt.cm.rainbow_r\n",
    "norm = plt.Normalize()\n",
    "grids.nummap.compare_hists(ma_profit_nummap, random_profit_nummap, 50, cmap, norm)"
   ]
  },
  {
   "cell_type": "markdown",
   "metadata": {},
   "source": [
    "## L3\n",
    "## scoremap"
   ]
  },
  {
   "cell_type": "markdown",
   "metadata": {},
   "source": [
    "Take into account multiple weighted KPIs and generate a score from 1 to 100."
   ]
  },
  {
   "cell_type": "code",
   "execution_count": 36,
   "metadata": {
    "ExecuteTime": {
     "end_time": "2019-08-04T17:03:39.251776Z",
     "start_time": "2019-08-04T17:03:39.240746Z"
    },
    "collapsed": false
   },
   "outputs": [
    {
     "name": "stdout",
     "output_type": "stream",
     "text": [
      "done. 0.00s\n",
      "min (1, 2): 1.0\n",
      "max (25, 88): 99.99999999999999\n"
     ]
    }
   ],
   "source": [
    "ma_scoremap = grids.scoremap.from_nummaps([ma_profit_nummap, ma_sharpe_nummap], [2/3, 1/3], [False, False])"
   ]
  },
  {
   "cell_type": "markdown",
   "metadata": {},
   "source": [
    "## L4\n",
    "## matrix"
   ]
  },
  {
   "cell_type": "markdown",
   "metadata": {},
   "source": [
    "Reshape 2d-parameter grid into a matrix."
   ]
  },
  {
   "cell_type": "code",
   "execution_count": 37,
   "metadata": {
    "ExecuteTime": {
     "end_time": "2019-08-04T17:03:44.696242Z",
     "start_time": "2019-08-04T17:03:42.802231Z"
    },
    "collapsed": false
   },
   "outputs": [
    {
     "name": "stdout",
     "output_type": "stream",
     "text": [
      "done. 1.89s\n"
     ]
    }
   ],
   "source": [
    "ma_matrix = grids.matrix.from_nummap(ma_profit_nummap, symmetric=True).fillna(0)"
   ]
  },
  {
   "cell_type": "markdown",
   "metadata": {},
   "source": [
    "Display as a heatmap."
   ]
  },
  {
   "cell_type": "code",
   "execution_count": 38,
   "metadata": {
    "ExecuteTime": {
     "end_time": "2019-08-04T17:03:45.139417Z",
     "start_time": "2019-08-04T17:03:44.856666Z"
    },
    "collapsed": false,
    "scrolled": false
   },
   "outputs": [
    {
     "name": "stdout",
     "output_type": "stream",
     "text": [
      "     count       mean        std  min        25%        50%        75%  \\\n",
      "0  10000.0  41.118181  27.417125 -1.0  17.342252  42.044429  63.429083   \n",
      "\n",
      "          max  \n",
      "0  115.224584  \n"
     ]
    },
    {
     "data": {
      "image/png": "[encoded data removed]",
      "text/plain": [
       "<Figure size 864x648 with 2 Axes>"
      ]
     },
     "metadata": {},
     "output_type": "display_data"
    }
   ],
   "source": [
    "cmap = plt.cm.rainbow_r\n",
    "norm = plt.Normalize()\n",
    "matplotlib.rcParams['figure.figsize'] = (12, 9)\n",
    "grids.matrix.plot(ma_matrix, cmap, norm)\n",
    "matplotlib.rcParams['figure.figsize'] = (12, 5)"
   ]
  },
  {
   "cell_type": "code",
   "execution_count": null,
   "metadata": {
    "collapsed": true
   },
   "outputs": [],
   "source": []
  },
  {
   "cell_type": "code",
   "execution_count": null,
   "metadata": {
    "collapsed": true
   },
   "outputs": [],
   "source": []
  }
 ],
 "metadata": {
  "anaconda-cloud": {},
  "kernelspec": {
   "display_name": "Python 3",
   "language": "python",
   "name": "python3"
  },
  "language_info": {
   "codemirror_mode": {
    "name": "ipython",
    "version": 3
   },
   "file_extension": ".py",
   "mimetype": "text/x-python",
   "name": "python",
   "nbconvert_exporter": "python",
   "pygments_lexer": "ipython3",
   "version": "3.6.7"
  }
 },
 "nbformat": 4,
 "nbformat_minor": 2
}
